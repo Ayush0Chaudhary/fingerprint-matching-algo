{
 "cells": [
  {
   "cell_type": "code",
   "execution_count": 19,
   "metadata": {},
   "outputs": [],
   "source": [
    "import cv2\n",
    "import os\n",
    "import time\n",
    "import concurrent.futures\n",
    "from multiprocessing import Pool, cpu_count\n",
    "import psutil\n",
    "\n",
    "sample = cv2.imread('SOCOFing/Altered/Altered-Easy/1__M_Left_little_finger_CR.BMP')\n",
    "sift = cv2.SIFT_create()\n",
    "kp1, des1 = sift.detectAndCompute(sample, None)"
   ]
  },
  {
   "cell_type": "code",
   "execution_count": 16,
   "metadata": {},
   "outputs": [],
   "source": [
    "def compute_keypoints_descriptors(file):\n",
    "    fingerprint_image = cv2.imread(os.path.join('SOCOFing/Real/', file))\n",
    "    kp2, des2 = sift.detectAndCompute(fingerprint_image, None)\n",
    "    kp2_info = [(kp.pt, kp.size, kp.angle, kp.response, kp.octave, kp.class_id) for kp in kp2]\n",
    "    return file, kp2_info, des2\n"
   ]
  },
  {
   "cell_type": "code",
   "execution_count": 18,
   "metadata": {},
   "outputs": [],
   "source": [
    "def knn_match(args):\n",
    "    fil, kp2_info, des2 = args\n",
    "    \n",
    "    kp2 = [cv2.KeyPoint(x, y, _size, _angle, _response, _octave, _class_id) \n",
    "           for (x, y), _size, _angle, _response, _octave, _class_id in kp2_info]\n",
    "    \n",
    "\n",
    "    matches = cv2.FlannBasedMatcher({'algorithm': 1, 'trees': 10}, {}).knnMatch(des1, des2, k=2)\n",
    "    \n",
    "    match_point = []\n",
    "    for p, q in matches:\n",
    "        if p.distance < 0.1 * q.distance:\n",
    "            match_point.append(p)\n",
    "\n",
    "    keypoints = min(len(kp1), len(kp2))\n",
    "    score = len(match_point) / keypoints * 100\n",
    "\n",
    "    return fil, score"
   ]
  },
  {
   "cell_type": "code",
   "execution_count": 20,
   "metadata": {},
   "outputs": [
    {
     "name": "stdout",
     "output_type": "stream",
     "text": [
      "Number of CPU: 16\n",
      "Number of fingers we ran search on:  12000\n",
      "Best Score: 63.63636363636363\n",
      "Filename: 1__M_Left_little_finger.BMP\n",
      "Knn Time (Actual time that machine will take): 2.60581374168396\n",
      "Image Process Time (We will pre-compute it): 3.8078722953796387\n",
      "Loop Time: 0.0008788108825683594\n",
      "Total Time: 6.46639084815979\n"
     ]
    }
   ],
   "source": [
    "process_time = time.time()\n",
    "\n",
    "sample = cv2.imread('SOCOFing/Altered/Altered-Easy/1__M_Left_little_finger_CR.BMP')\n",
    "sift = cv2.SIFT_create()\n",
    "kp1, des1 = sift.detectAndCompute(sample, None)\n",
    "\n",
    "#NOTE kp1 is list of keypoints and des is numpy array of shape (number_of_keypoints, 128)\n",
    "# ggdf = cv2.drawKeypoints(sample, kp1, None, flags=cv2.DRAW_MATCHES_FLAGS_DRAW_RICH_KEYPOINTS)\n",
    "# cv2.imwrite('keypoints.jpg', ggdf) // to draw the keypoints of the fingerprint image\n",
    "\n",
    "\n",
    "all_kp2_des2 = []\n",
    "\n",
    "with Pool(cpu_count()) as p:\n",
    "    all_kp2_des2=  p.map(compute_keypoints_descriptors, os.listdir('SOCOFing/Real/'))\n",
    "\n",
    "\n",
    "end_process_time = time.time()\n",
    "# if all_kp2_des2 size is 6000, how can i make it 18000 by duplicating the data\n",
    "\n",
    "\n",
    "gg = all_kp2_des2\n",
    "all_kp2_des2.extend(all_kp2_des2)\n",
    "# # all_kp2_des2.extend(all_kp2_des2)\n",
    "# all_kp2_des2.extend(gg)\n",
    "best_score = 0\n",
    "best_match = None\n",
    "knn_start = time.time()\n",
    "\n",
    "# with concurrent.futures.ProcessPoolExecutor() as p:\n",
    "# count number of process\n",
    "\n",
    "with Pool() as p:\n",
    "    print('Number of CPU:', cpu_count())\n",
    "    results = p.map(knn_match, all_kp2_des2)\n",
    "\n",
    "knn_end = time.time()\n",
    "print(\"Number of fingers we ran search on: \",len(results))\n",
    "loop_time_start = time.time()\n",
    "for fil, score in results:\n",
    "    if score > best_score:\n",
    "        best_score = score\n",
    "        best_match = fil\n",
    "loop_time_end = time.time() \n",
    "    \n",
    "\n",
    "print('Best Score:', best_score)\n",
    "print('Filename:', best_match)\n",
    "print('Knn Time (Actual time that machine will take):', knn_end - knn_start)\n",
    "print('Image Process Time (We will pre-compute it):', end_process_time - process_time)\n",
    "print('Loop Time:', loop_time_end - loop_time_start)\n",
    "print('Total Time:', time.time() - process_time)"
   ]
  }
 ],
 "metadata": {
  "kernelspec": {
   "display_name": "Python 3",
   "language": "python",
   "name": "python3"
  },
  "language_info": {
   "codemirror_mode": {
    "name": "ipython",
    "version": 3
   },
   "file_extension": ".py",
   "mimetype": "text/x-python",
   "name": "python",
   "nbconvert_exporter": "python",
   "pygments_lexer": "ipython3",
   "version": "3.10.12"
  }
 },
 "nbformat": 4,
 "nbformat_minor": 2
}
